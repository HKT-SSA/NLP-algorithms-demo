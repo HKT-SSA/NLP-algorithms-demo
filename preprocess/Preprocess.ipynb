{
 "cells": [
  {
   "cell_type": "markdown",
   "metadata": {},
   "source": [
    "## Download Dataset \n",
    "\n",
    "Today we are using the open dataset from '今日頭條'(https://www.toutiao.com/)\n",
    "There are 382688 titles along with their categories in this dataset. One article belongs to one category. Repository: https://github.com/skdjfla/toutiao-text-classfication-dataset"
   ]
  },
  {
   "cell_type": "code",
   "execution_count": 16,
   "metadata": {},
   "outputs": [
    {
     "name": "stdout",
     "output_type": "stream",
     "text": [
      "Archive:  toutiao_cat_data.txt.zip\n",
      "  inflating: toutiao_cat_data.txt    \n"
     ]
    },
    {
     "name": "stderr",
     "output_type": "stream",
     "text": [
      "Cloning into 'toutiao-text-classfication-dataset'...\n"
     ]
    }
   ],
   "source": [
    "%%bash \n",
    "rm -rf /home/ec2-user/SageMaker/chinese-corpus \n",
    "cd /home/ec2-user/SageMaker/ \n",
    "mkdir chinese-corpus\n",
    "cd chinese-corpus\n",
    "git clone https://github.com/skdjfla/toutiao-text-classfication-dataset.git \n",
    "cp toutiao-text-classfication-dataset/toutiao_cat_data.txt.zip .\n",
    "unzip toutiao_cat_data.txt.zip \n"
   ]
  },
  {
   "cell_type": "code",
   "execution_count": 17,
   "metadata": {},
   "outputs": [
    {
     "name": "stdout",
     "output_type": "stream",
     "text": [
      "6551700932705387022_!_101_!_news_culture_!_京城最值得你来场文化之旅的博物馆_!_保利集团,马未都,中国科学技术馆,博物馆,新中国\r\n",
      "6552368441838272771_!_101_!_news_culture_!_发酵床的垫料种类有哪些？哪种更好？_!_\r\n",
      "6552407965343678723_!_101_!_news_culture_!_上联：黄山黄河黄皮肤黄土高原。怎么对下联？_!_\r\n",
      "6552332417753940238_!_101_!_news_culture_!_林徽因什么理由拒绝了徐志摩而选择梁思成为终身伴侣？_!_\r\n",
      "6552475601595269390_!_101_!_news_culture_!_黄杨木是什么树？_!_\r\n",
      "6552387648126714125_!_101_!_news_culture_!_上联：草根登上星光道，怎么对下联？_!_\r\n",
      "6552271725814350087_!_101_!_news_culture_!_什么是超写实绘画？_!_\r\n",
      "6552452982015787268_!_101_!_news_culture_!_松涛听雨莺婉转，下联？_!_\r\n",
      "6552400379030536455_!_101_!_news_culture_!_上联：老子骑牛读书，下联怎么对？_!_\r\n",
      "6552339283632455939_!_101_!_news_culture_!_上联：山水醉人何须酒。如何对下联？_!_\r\n"
     ]
    }
   ],
   "source": [
    "!head -n 10 /home/ec2-user/SageMaker/chinese-corpus/toutiao_cat_data.txt"
   ]
  },
  {
   "cell_type": "markdown",
   "metadata": {},
   "source": [
    "### Observe the number of documents over each category "
   ]
  },
  {
   "cell_type": "code",
   "execution_count": 24,
   "metadata": {},
   "outputs": [
    {
     "name": "stdout",
     "output_type": "stream",
     "text": [
      "    340 stock\r\n",
      "   6273 news_story\r\n",
      "  17672 news_house\r\n",
      "  19322 news_agriculture\r\n",
      "  21422 news_travel\r\n",
      "  24984 news_military\r\n",
      "  26909 news_world\r\n",
      "  27058 news_edu\r\n",
      "  27085 news_finance\r\n",
      "  28031 news_culture\r\n",
      "  29300 news_game\r\n",
      "  35785 news_car\r\n",
      "  37568 news_sports\r\n",
      "  39396 news_entertainment\r\n",
      "  41543 news_tech\r\n"
     ]
    }
   ],
   "source": [
    "cat /home/ec2-user/SageMaker/chinese-corpus/toutiao_cat_data.txt | awk -F '_!_' '{print $3}' | sort | uniq -c | sort -k1n"
   ]
  },
  {
   "cell_type": "markdown",
   "metadata": {},
   "source": [
    "### Check if there are multi-labeled documents "
   ]
  },
  {
   "cell_type": "code",
   "execution_count": 23,
   "metadata": {},
   "outputs": [
    {
     "name": "stdout",
     "output_type": "stream",
     "text": [
      "      1 6555273002437574919\r\n",
      "      1 6555273170788549134\r\n",
      "      1 6555273406252581128\r\n",
      "      1 6555274004679098888\r\n",
      "      1 6555275228337930510\r\n",
      "      1 6555276205229097480\r\n",
      "      1 6555276669471425038\r\n",
      "      1 6555277029976048142\r\n",
      "      1 6555284827275264519\r\n",
      "      1 6555289097043181837\r\n"
     ]
    }
   ],
   "source": [
    "cat /home/ec2-user/SageMaker/chinese-corpus/toutiao_cat_data.txt | awk -F '_!_' '{print $1}' | sort | uniq -c | sort -k1n | tail -10  "
   ]
  },
  {
   "cell_type": "markdown",
   "metadata": {},
   "source": [
    "### Install necessary packages "
   ]
  },
  {
   "cell_type": "code",
   "execution_count": 11,
   "metadata": {},
   "outputs": [
    {
     "name": "stdout",
     "output_type": "stream",
     "text": [
      "Requirement already satisfied: jieba in /home/ec2-user/anaconda3/envs/pytorch_latest_p36/lib/python3.6/site-packages (0.42.1)\n",
      "\u001b[33mWARNING: You are using pip version 20.0.2; however, version 20.1.1 is available.\n",
      "You should consider upgrading via the '/home/ec2-user/anaconda3/envs/pytorch_latest_p36/bin/python -m pip install --upgrade pip' command.\u001b[0m\n",
      "Requirement already satisfied: ckiptagger in /home/ec2-user/anaconda3/envs/pytorch_latest_p36/lib/python3.6/site-packages (0.1.1)\n",
      "\u001b[33mWARNING: You are using pip version 20.0.2; however, version 20.1.1 is available.\n",
      "You should consider upgrading via the '/home/ec2-user/anaconda3/envs/pytorch_latest_p36/bin/python -m pip install --upgrade pip' command.\u001b[0m\n",
      "Requirement already satisfied: tensorflow==1.13.1 in /home/ec2-user/anaconda3/envs/pytorch_latest_p36/lib/python3.6/site-packages (1.13.1)\n",
      "Requirement already satisfied: six>=1.10.0 in /home/ec2-user/anaconda3/envs/pytorch_latest_p36/lib/python3.6/site-packages (from tensorflow==1.13.1) (1.14.0)\n",
      "Requirement already satisfied: grpcio>=1.8.6 in /home/ec2-user/anaconda3/envs/pytorch_latest_p36/lib/python3.6/site-packages (from tensorflow==1.13.1) (1.30.0)\n",
      "Requirement already satisfied: tensorboard<1.14.0,>=1.13.0 in /home/ec2-user/anaconda3/envs/pytorch_latest_p36/lib/python3.6/site-packages (from tensorflow==1.13.1) (1.13.1)\n",
      "Requirement already satisfied: absl-py>=0.1.6 in /home/ec2-user/anaconda3/envs/pytorch_latest_p36/lib/python3.6/site-packages (from tensorflow==1.13.1) (0.9.0)\n",
      "Requirement already satisfied: astor>=0.6.0 in /home/ec2-user/anaconda3/envs/pytorch_latest_p36/lib/python3.6/site-packages (from tensorflow==1.13.1) (0.8.1)\n",
      "Requirement already satisfied: tensorflow-estimator<1.14.0rc0,>=1.13.0 in /home/ec2-user/anaconda3/envs/pytorch_latest_p36/lib/python3.6/site-packages (from tensorflow==1.13.1) (1.13.0)\n",
      "Requirement already satisfied: keras-applications>=1.0.6 in /home/ec2-user/anaconda3/envs/pytorch_latest_p36/lib/python3.6/site-packages (from tensorflow==1.13.1) (1.0.8)\n",
      "Requirement already satisfied: termcolor>=1.1.0 in /home/ec2-user/anaconda3/envs/pytorch_latest_p36/lib/python3.6/site-packages (from tensorflow==1.13.1) (1.1.0)\n",
      "Requirement already satisfied: wheel>=0.26 in /home/ec2-user/anaconda3/envs/pytorch_latest_p36/lib/python3.6/site-packages (from tensorflow==1.13.1) (0.34.2)\n",
      "Requirement already satisfied: protobuf>=3.6.1 in /home/ec2-user/anaconda3/envs/pytorch_latest_p36/lib/python3.6/site-packages (from tensorflow==1.13.1) (3.12.2)\n",
      "Requirement already satisfied: keras-preprocessing>=1.0.5 in /home/ec2-user/anaconda3/envs/pytorch_latest_p36/lib/python3.6/site-packages (from tensorflow==1.13.1) (1.1.2)\n",
      "Requirement already satisfied: numpy>=1.13.3 in /home/ec2-user/anaconda3/envs/pytorch_latest_p36/lib/python3.6/site-packages (from tensorflow==1.13.1) (1.18.1)\n",
      "Requirement already satisfied: gast>=0.2.0 in /home/ec2-user/anaconda3/envs/pytorch_latest_p36/lib/python3.6/site-packages (from tensorflow==1.13.1) (0.3.3)\n",
      "Requirement already satisfied: markdown>=2.6.8 in /home/ec2-user/anaconda3/envs/pytorch_latest_p36/lib/python3.6/site-packages (from tensorboard<1.14.0,>=1.13.0->tensorflow==1.13.1) (3.2.2)\n",
      "Requirement already satisfied: werkzeug>=0.11.15 in /home/ec2-user/anaconda3/envs/pytorch_latest_p36/lib/python3.6/site-packages (from tensorboard<1.14.0,>=1.13.0->tensorflow==1.13.1) (1.0.1)\n",
      "Requirement already satisfied: mock>=2.0.0 in /home/ec2-user/anaconda3/envs/pytorch_latest_p36/lib/python3.6/site-packages (from tensorflow-estimator<1.14.0rc0,>=1.13.0->tensorflow==1.13.1) (4.0.1)\n",
      "Requirement already satisfied: h5py in /home/ec2-user/anaconda3/envs/pytorch_latest_p36/lib/python3.6/site-packages (from keras-applications>=1.0.6->tensorflow==1.13.1) (2.10.0)\n",
      "Requirement already satisfied: setuptools in /home/ec2-user/anaconda3/envs/pytorch_latest_p36/lib/python3.6/site-packages (from protobuf>=3.6.1->tensorflow==1.13.1) (46.1.3.post20200330)\n",
      "Requirement already satisfied: importlib-metadata; python_version < \"3.8\" in /home/ec2-user/anaconda3/envs/pytorch_latest_p36/lib/python3.6/site-packages (from markdown>=2.6.8->tensorboard<1.14.0,>=1.13.0->tensorflow==1.13.1) (1.5.0)\n",
      "Requirement already satisfied: zipp>=0.5 in /home/ec2-user/anaconda3/envs/pytorch_latest_p36/lib/python3.6/site-packages (from importlib-metadata; python_version < \"3.8\"->markdown>=2.6.8->tensorboard<1.14.0,>=1.13.0->tensorflow==1.13.1) (2.2.0)\n",
      "\u001b[33mWARNING: You are using pip version 20.0.2; however, version 20.1.1 is available.\n",
      "You should consider upgrading via the '/home/ec2-user/anaconda3/envs/pytorch_latest_p36/bin/python -m pip install --upgrade pip' command.\u001b[0m\n"
     ]
    }
   ],
   "source": [
    "!pip install jieba\n",
    "!pip install ckiptagger \n",
    "!pip install tensorflow==1.13.1"
   ]
  },
  {
   "cell_type": "code",
   "execution_count": 27,
   "metadata": {},
   "outputs": [
    {
     "name": "stdout",
     "output_type": "stream",
     "text": [
      "result of preprocess: [('101', 'news_culture', '京城最值得你来场文化之旅的博物馆'), ('101', 'news_culture', '发酵床的垫料种类有哪些？哪种更好？'), ('101', 'news_culture', '上联：黄山黄河黄皮肤黄土高原。怎么对下联？'), ('101', 'news_culture', '林徽因什么理由拒绝了徐志摩而选择梁思成为终身伴侣？'), ('101', 'news_culture', '黄杨木是什么树？'), ('101', 'news_culture', '上联：草根登上星光道，怎么对下联？'), ('101', 'news_culture', '什么是超写实绘画？'), ('101', 'news_culture', '松涛听雨莺婉转，下联？'), ('101', 'news_culture', '上联：老子骑牛读书，下联怎么对？'), ('101', 'news_culture', '上联：山水醉人何须酒。如何对下联？')]\n",
      "result of transformed data: ['__label__news_culture 京城 最 值得 你 来场 文化 之旅 的 博物馆', '__label__news_culture 发酵 床 的 垫料 种类 有 哪些 ？ 哪 种 更好 ？', '__label__news_culture 上联 ： 黄山 黄河 黄皮肤 黄土高原 。 怎么 对 下联 ？', '__label__news_culture 林徽因 什么 理由 拒绝 了 徐志摩 而 选择 梁思成 为 终身伴侣 ？', '__label__news_culture 黄杨木 是 什么 树 ？', '__label__news_culture 上联 ： 草根 登上 星光 道 ， 怎么 对 下联 ？', '__label__news_culture 什么 是 超 写实 绘画 ？', '__label__news_culture 松涛 听雨莺 婉转 ， 下联 ？', '__label__news_culture 上联 ： 老子 骑牛 读书 ， 下联 怎么 对 ？', '__label__news_culture 上联 ： 山水 醉人 何须 酒 。 如何 对 下联 ？']\n"
     ]
    }
   ],
   "source": [
    "import sys\n",
    "sys.path.append('/home/ec2-user/SageMaker/nlp_processing/')\n",
    "\n",
    "from preprocess import TouTiaoNewsPreprocessor\n",
    "from segmenter import JiebaSegmenter\n",
    "from transformer import BlazingTextInputDataTransformer\n",
    "\n",
    "preprocessor = TouTiaoNewsPreprocessor()\n",
    "res = preprocessor.preprocess('/home/ec2-user/SageMaker/chinese-corpus/toutiao_cat_data.txt')\n",
    "print('result of preprocess:', res[0:10])\n",
    "segmenter = JiebaSegmenter()\n",
    "transformer = BlazingTextInputDataTransformer()\n",
    "all_contents = [] \n",
    "for r in res:\n",
    "    toks = segmenter.segment(r[2])\n",
    "    input = transformer.transform((r[0], r[1], toks))\n",
    "    all_contents.append(input)    \n",
    "print('result of transformed data:', all_contents[0:10])    "
   ]
  },
  {
   "cell_type": "code",
   "execution_count": 28,
   "metadata": {},
   "outputs": [],
   "source": [
    "import pickle \n",
    "pickle.dump( all_contents, open( \"/home/ec2-user/SageMaker/chinese-corpus/all_contents.p\", \"wb\" ) )"
   ]
  },
  {
   "cell_type": "code",
   "execution_count": null,
   "metadata": {},
   "outputs": [],
   "source": []
  }
 ],
 "metadata": {
  "kernelspec": {
   "display_name": "conda_pytorch_latest_p36",
   "language": "python",
   "name": "conda_pytorch_latest_p36"
  },
  "language_info": {
   "codemirror_mode": {
    "name": "ipython",
    "version": 3
   },
   "file_extension": ".py",
   "mimetype": "text/x-python",
   "name": "python",
   "nbconvert_exporter": "python",
   "pygments_lexer": "ipython3",
   "version": "3.6.10"
  }
 },
 "nbformat": 4,
 "nbformat_minor": 4
}
