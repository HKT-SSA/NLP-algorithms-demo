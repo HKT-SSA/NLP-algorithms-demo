{
 "cells": [
  {
   "cell_type": "markdown",
   "metadata": {},
   "source": [
    "## Download Dataset \n",
    "\n",
    "Today we are using the open dataset from '今日頭條'(https://www.toutiao.com/)\n",
    "There are 382688 titles along with their categories in this dataset. One article belongs to one category. Repository: https://github.com/skdjfla/toutiao-text-classfication-dataset"
   ]
  },
  {
   "cell_type": "code",
   "execution_count": null,
   "metadata": {},
   "outputs": [],
   "source": [
    "%%bash \n",
    "cd /home/ec2-user/SageMaker/ \n",
    "mkdir chinese-corpus\n",
    "cd chinese-corpus\n",
    "git clone https://github.com/skdjfla/toutiao-text-classfication-dataset.git \n",
    "cp toutiao-text-classfication-dataset/toutiao_cat_data.txt.zip .\n",
    "unzip toutiao_cat_data.txt.zip \n"
   ]
  },
  {
   "cell_type": "code",
   "execution_count": null,
   "metadata": {},
   "outputs": [],
   "source": [
    "!head -n 10 /home/ec2-user/SageMaker/chinese-corpus/toutiao_cat_data.txt"
   ]
  },
  {
   "cell_type": "markdown",
   "metadata": {},
   "source": [
    "### Observe the number of documents over each category "
   ]
  },
  {
   "cell_type": "code",
   "execution_count": null,
   "metadata": {},
   "outputs": [],
   "source": [
    "cat /home/ec2-user/SageMaker/chinese-corpus/toutiao_cat_data.txt | awk -F '_!_' '{print $3}' | sort | uniq -c | sort -k1n"
   ]
  },
  {
   "cell_type": "markdown",
   "metadata": {},
   "source": [
    "### Check if there are multi-labeled documents "
   ]
  },
  {
   "cell_type": "code",
   "execution_count": null,
   "metadata": {},
   "outputs": [],
   "source": [
    "cat /home/ec2-user/SageMaker/chinese-corpus/toutiao_cat_data.txt | awk -F '_!_' '{print $1}' | sort | uniq -c | sort -k1n | tail -10  "
   ]
  },
  {
   "cell_type": "markdown",
   "metadata": {},
   "source": [
    "### Install necessary packages "
   ]
  },
  {
   "cell_type": "code",
   "execution_count": null,
   "metadata": {},
   "outputs": [],
   "source": [
    "!pip install jieba\n",
    "!pip install ckiptagger \n",
    "!pip install tensorflow==1.13.1"
   ]
  },
  {
   "cell_type": "code",
   "execution_count": null,
   "metadata": {},
   "outputs": [],
   "source": [
    "%%bash \n",
    "wget -O data.zip https://tinyurl.com/yb6mnvb8\n",
    "unzip  data.zip"
   ]
  },
  {
   "cell_type": "code",
   "execution_count": null,
   "metadata": {},
   "outputs": [],
   "source": [
    "import sys\n",
    "sys.path.append('/home/ec2-user/SageMaker/nlp_processing/')\n",
    "\n",
    "from preprocess import TouTiaoNewsPreprocessor\n",
    "from segmenter import JiebaSegmenter\n",
    "from transformer import BlazingTextInputDataTransformer\n",
    "\n",
    "preprocessor = TouTiaoNewsPreprocessor()\n",
    "res = preprocessor.preprocess('/home/ec2-user/SageMaker/chinese-corpus/toutiao_cat_data.txt')\n",
    "print('result of preprocess:', res[0:10])\n",
    "segmenter = JiebaSegmenter()\n",
    "transformer = BlazingTextInputDataTransformer()\n",
    "all_contents = [] \n",
    "for r in res:\n",
    "    toks = segmenter.segment(r[2])\n",
    "    input = transformer.transform((r[0], r[1], toks))\n",
    "    all_contents.append(input)    \n",
    "print('result of transformed data:', all_contents[0:10])    "
   ]
  },
  {
   "cell_type": "code",
   "execution_count": null,
   "metadata": {},
   "outputs": [],
   "source": [
    "import pickle \n",
    "pickle.dump( all_contents, open( \"/home/ec2-user/SageMaker/chinese-corpus/all_contents.p\", \"wb\" ) )"
   ]
  },
  {
   "cell_type": "code",
   "execution_count": null,
   "metadata": {},
   "outputs": [],
   "source": []
  },
  {
   "cell_type": "code",
   "execution_count": null,
   "metadata": {},
   "outputs": [],
   "source": [
    "from segmenter import CKIPSegmenter\n",
    "ckipsegmenter = CKIPSegmenter()\n",
    "ckipsegmenter.segment('歡迎大家來亞馬遜上課！')\n"
   ]
  },
  {
   "cell_type": "code",
   "execution_count": null,
   "metadata": {},
   "outputs": [],
   "source": [
    "segmenter.segment('歡迎大家來亞馬遜上課！')"
   ]
  },
  {
   "cell_type": "code",
   "execution_count": null,
   "metadata": {},
   "outputs": [],
   "source": []
  }
 ],
 "metadata": {
  "kernelspec": {
   "display_name": "conda_python3",
   "language": "python",
   "name": "conda_python3"
  },
  "language_info": {
   "codemirror_mode": {
    "name": "ipython",
    "version": 3
   },
   "file_extension": ".py",
   "mimetype": "text/x-python",
   "name": "python",
   "nbconvert_exporter": "python",
   "pygments_lexer": "ipython3",
   "version": "3.6.10"
  }
 },
 "nbformat": 4,
 "nbformat_minor": 4
}
